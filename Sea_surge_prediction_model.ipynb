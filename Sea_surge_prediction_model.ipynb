{
 "cells": [
  {
   "cell_type": "markdown",
   "id": "17361847",
   "metadata": {},
   "source": [
    "### Loading modules"
   ]
  },
  {
   "cell_type": "code",
   "execution_count": 1,
   "id": "cd81fe47",
   "metadata": {},
   "outputs": [],
   "source": [
    "# General\n",
    "import numpy as np\n",
    "import pandas as pd\n",
    "import math\n",
    "from os.path import exists\n",
    "from surge_tools import *\n",
    "\n",
    "# ML\n",
    "from sklearn.model_selection import train_test_split\n",
    "from sklearn.decomposition import PCA\n",
    "from sklearn.linear_model import LinearRegression\n",
    "from sklearn.preprocessing import StandardScaler\n",
    "from sklearn.linear_model import Lasso\n",
    "\n",
    "# Visualization / Interpretation\n",
    "from time import gmtime\n",
    "import datetime\n",
    "import matplotlib.pyplot as plt\n",
    "import matplotlib.animation as animation\n",
    "import matplotlib as mpl"
   ]
  },
  {
   "cell_type": "markdown",
   "id": "4321489d",
   "metadata": {},
   "source": [
    "### Hyperparameters"
   ]
  },
  {
   "cell_type": "code",
   "execution_count": 2,
   "id": "12024d73",
   "metadata": {},
   "outputs": [],
   "source": [
    "pca_variance = 0.99\n",
    "alpha = 0.0077"
   ]
  },
  {
   "cell_type": "markdown",
   "id": "6f01ca46",
   "metadata": {},
   "source": [
    "### Naming version"
   ]
  },
  {
   "cell_type": "code",
   "execution_count": 3,
   "id": "c4f98029",
   "metadata": {},
   "outputs": [
    {
     "name": "stdout",
     "output_type": "stream",
     "text": [
      "y_test_4_1.csv\n"
     ]
    }
   ],
   "source": [
    "def name_of(v,s):\n",
    "    return \"y_test_\"+str(v)+\"_\"+str(s)+\".csv\"\n",
    "\n",
    "version = 4\n",
    "subversion = 0\n",
    "while True:\n",
    "    if exists(name_of(version, subversion)):\n",
    "        subversion += 1\n",
    "    else:\n",
    "        break\n",
    "\n",
    "name = name_of(version, subversion)\n",
    "print(name)"
   ]
  },
  {
   "cell_type": "markdown",
   "id": "3284821a",
   "metadata": {},
   "source": [
    "### Loading and preparing train and test data"
   ]
  },
  {
   "cell_type": "code",
   "execution_count": 4,
   "id": "88377e64",
   "metadata": {},
   "outputs": [],
   "source": [
    "slp_tr = X_train['slp']\n",
    "surge1_input_all = X_train['surge1_input']\n",
    "surge2_input_all = X_train['surge2_input']\n",
    "surge1_out_all = np.array(y_train)[:,1:11]\n",
    "surge2_out_all = np.array(y_train)[:,11:21]\n",
    "time1_input_all = np.array(X_train['t_surge1_input'])[:,-1:]\n",
    "time2_input_all = np.array(X_train['t_surge2_input'])[:,-1:]\n",
    "scaler1 = StandardScaler()\n",
    "scaler1.fit(time1_input_all)\n",
    "time1_input_all = scaler1.transform(time1_input_all)\n",
    "scaler2 = StandardScaler()\n",
    "scaler2.fit(time2_input_all)\n",
    "time2_input_all = scaler2.transform(time2_input_all)\n",
    "\n",
    "X_tr = np.array([np.ndarray.flatten(np.array(slp)) for slp in slp_tr])\n",
    "scaler = StandardScaler()\n",
    "scaler.fit(X_tr)\n",
    "X_tr = scaler.transform(X_tr)\n",
    "\n",
    "X1_tr = surge1_input_all\n",
    "X2_tr = surge2_input_all\n",
    "time1_input_tr = time1_input_all\n",
    "time2_input_tr = time2_input_all\n",
    "\n",
    "slp_tst = X_test['slp']\n",
    "\n",
    "X_tst = scaler.transform(np.array([np.ndarray.flatten(np.array(slp)) for slp in slp_tst]))\n",
    "\n",
    "X1_tst = X_test['surge1_input']\n",
    "X2_tst = X_test['surge2_input']\n",
    "time1_input_tst = scaler1.transform(np.array(X_test['t_surge1_input'])[:,-1:])\n",
    "time2_input_tst = scaler2.transform(np.array(X_test['t_surge2_input'])[:,-1:])\n",
    "\n",
    "y1_tr = surge1_out_all\n",
    "y2_tr = surge2_out_all\n",
    "\n",
    "y1_tr_norm = [normalize_l2_y(y_sample) for y_sample in y1_tr]\n",
    "y2_tr_norm = [normalize_l2_y(y_sample) for y_sample in y2_tr]"
   ]
  },
  {
   "cell_type": "markdown",
   "id": "2eacdd29",
   "metadata": {},
   "source": [
    "### PCA reduction"
   ]
  },
  {
   "cell_type": "code",
   "execution_count": 5,
   "id": "90ee8799",
   "metadata": {},
   "outputs": [
    {
     "name": "stdout",
     "output_type": "stream",
     "text": [
      "Dimension Reduction...\n",
      "...done\n",
      "[2.35355407e-01 1.79186746e-01 1.00124508e-01 5.24174385e-02\n",
      " 5.14078066e-02 4.57058437e-02 3.91164050e-02 2.84490399e-02\n",
      " 2.18870752e-02 1.86009165e-02 1.55188758e-02 1.44303711e-02\n",
      " 1.31169679e-02 1.10917948e-02 1.00345062e-02 9.38487053e-03\n",
      " 8.37524701e-03 8.26199260e-03 6.56731846e-03 5.83287422e-03\n",
      " 5.27228741e-03 4.86356393e-03 4.55807336e-03 4.21864586e-03\n",
      " 3.89739731e-03 3.54497787e-03 3.44369211e-03 3.35875107e-03\n",
      " 3.04789725e-03 2.86207069e-03 2.74180924e-03 2.64165062e-03\n",
      " 2.19578017e-03 2.15464341e-03 2.09486624e-03 2.04116455e-03\n",
      " 1.97709026e-03 1.88209955e-03 1.81355351e-03 1.77294982e-03\n",
      " 1.63190928e-03 1.58042915e-03 1.54832751e-03 1.51234376e-03\n",
      " 1.48086122e-03 1.40553503e-03 1.34942762e-03 1.28023594e-03\n",
      " 1.18387013e-03 1.14110333e-03 1.13372051e-03 1.09653594e-03\n",
      " 1.05747732e-03 1.01426884e-03 9.71625617e-04 9.26367182e-04\n",
      " 9.00801795e-04 8.66088318e-04 8.30789213e-04 8.10562633e-04\n",
      " 7.91916624e-04 7.46971287e-04 7.32281827e-04 7.07293337e-04\n",
      " 6.78282988e-04 6.63191080e-04 6.33570424e-04 6.19773869e-04\n",
      " 5.93956502e-04 5.71774319e-04 5.57325140e-04 5.43274451e-04\n",
      " 5.32533275e-04 5.23904979e-04 5.06800308e-04 4.98517125e-04\n",
      " 4.76604153e-04 4.65947523e-04 4.50747611e-04 4.38126968e-04\n",
      " 4.21307137e-04 4.12542955e-04 3.99884739e-04 3.86738917e-04\n",
      " 3.76048672e-04 3.67103465e-04 3.62041814e-04 3.56023200e-04\n",
      " 3.48511472e-04 3.33201839e-04 3.26565409e-04 3.21201922e-04\n",
      " 3.09279276e-04 3.01927532e-04 3.01544234e-04 2.93299439e-04\n",
      " 2.87751696e-04 2.83904898e-04 2.81214860e-04 2.71582889e-04\n",
      " 2.65820621e-04 2.61199602e-04 2.58258777e-04 2.51847552e-04\n",
      " 2.50252604e-04 2.40424197e-04 2.38176261e-04 2.25755124e-04\n",
      " 2.22756324e-04 2.17072928e-04 2.12860890e-04 2.08371857e-04\n",
      " 2.06865356e-04 2.02345531e-04 1.98848196e-04 1.94428270e-04\n",
      " 1.87493337e-04 1.85791927e-04 1.84272940e-04 1.79498122e-04\n",
      " 1.75836583e-04 1.73883411e-04 1.70136263e-04 1.67241349e-04\n",
      " 1.65538848e-04 1.61033779e-04 1.60722047e-04 1.56900292e-04\n",
      " 1.53480665e-04 1.52946755e-04 1.49489162e-04 1.47722472e-04\n",
      " 1.46257735e-04 1.43442943e-04 1.39488038e-04 1.37708135e-04\n",
      " 1.37314637e-04 1.36053932e-04 1.32668589e-04 1.30352055e-04\n",
      " 1.28228188e-04 1.26301966e-04 1.22895697e-04 1.19873876e-04\n",
      " 1.18542870e-04 1.16467774e-04 1.16017814e-04 1.14294657e-04\n",
      " 1.13315284e-04 1.10425390e-04 1.08685505e-04 1.07369226e-04\n",
      " 1.06456013e-04 1.05008323e-04 1.04413659e-04 1.02157945e-04\n",
      " 1.01318219e-04 1.00010460e-04 9.77393502e-05 9.76887604e-05\n",
      " 9.73331626e-05 9.63590865e-05 9.45953798e-05 9.40475584e-05\n",
      " 9.33362098e-05 9.14042757e-05 8.88470386e-05 8.87237111e-05\n",
      " 8.77222410e-05 8.69544383e-05 8.64520989e-05 8.56192928e-05\n",
      " 8.40275461e-05 8.24955496e-05 8.18536355e-05 8.01126953e-05\n",
      " 7.91692582e-05 7.86184610e-05 7.77942478e-05 7.67979000e-05\n",
      " 7.60213734e-05 7.51978150e-05 7.45456564e-05 7.29872118e-05\n",
      " 7.24399579e-05 7.13912086e-05 7.03862825e-05 6.93008042e-05\n",
      " 6.87478241e-05 6.76184864e-05 6.72120732e-05 6.62492530e-05\n",
      " 6.50612419e-05 6.39957725e-05 6.37143166e-05 6.35274846e-05\n",
      " 6.31874791e-05 6.24528475e-05]\n",
      "198\n"
     ]
    }
   ],
   "source": [
    "print('Dimension Reduction...')\n",
    "pca = PCA(n_components = pca_variance)\n",
    "pca.fit(X_tr)\n",
    "print('...done')\n",
    "X_red_tr = pca.transform(X_tr)\n",
    "X_red_tst = pca.transform(X_tst)\n",
    "print(pca.explained_variance_ratio_)\n",
    "print(len(pca.explained_variance_ratio_))"
   ]
  },
  {
   "cell_type": "markdown",
   "id": "b8fd1bbc",
   "metadata": {},
   "source": [
    "### Lasso Regression"
   ]
  },
  {
   "cell_type": "code",
   "execution_count": 6,
   "id": "9522f36c",
   "metadata": {},
   "outputs": [
    {
     "name": "stdout",
     "output_type": "stream",
     "text": [
      "Linear Regression 1...\n",
      "...done\n"
     ]
    }
   ],
   "source": [
    "X_first_tr = np.array([np.concatenate((X_red_tr[i], X1_tr[i], time1_input_tr[i]))\n",
    "                       for i in range(len(X_tr))])\n",
    "X_first_tst = np.array([np.concatenate((X_red_tst[i], X1_tst[i], time1_input_tst[i]))\n",
    "                       for i in range(len(X_tst))])\n",
    "\n",
    "clf1 = Lasso(alpha=alpha)\n",
    "print('Linear Regression 1...')\n",
    "clf1.fit(X_first_tr, y1_tr_norm)\n",
    "print('...done')\n",
    "\n",
    "y1_pred_norm = clf1.predict(X_first_tst)\n",
    "y1_pred = np.array([denormalize_l2_y(y_sample) for y_sample in y1_pred_norm])"
   ]
  },
  {
   "cell_type": "code",
   "execution_count": 7,
   "id": "ffd4dd4c",
   "metadata": {},
   "outputs": [
    {
     "name": "stdout",
     "output_type": "stream",
     "text": [
      "Linear Regression 2...\n",
      "...done\n"
     ]
    }
   ],
   "source": [
    "X_second_tr = np.array([np.concatenate((X_red_tr[i], X2_tr[i], time2_input_tr[i]))\n",
    "                        for i in range(len(X_tr))])\n",
    "X_second_tst = np.array([np.concatenate((X_red_tst[i], X2_tst[i], time2_input_tst[i]))\n",
    "                        for i in range(len(X_tst))])\n",
    "\n",
    "clf2 = Lasso(alpha=alpha)\n",
    "print('Linear Regression 2...')\n",
    "clf2.fit(X_second_tr, y2_tr_norm)\n",
    "print('...done')\n",
    "\n",
    "y2_pred_norm = clf2.predict(X_second_tst)\n",
    "y2_pred = np.array([denormalize_l2_y(y_sample) for y_sample in y2_pred_norm])"
   ]
  },
  {
   "cell_type": "code",
   "execution_count": 8,
   "id": "68ba4ce3",
   "metadata": {},
   "outputs": [],
   "source": [
    "# Prediction on known data\n",
    "y1_tr_pred_norm = clf1.predict(X_first_tr)\n",
    "y1_tr_pred = np.array([denormalize_l2_y(y_sample) for y_sample in y1_tr_pred_norm])\n",
    "\n",
    "y2_tr_pred_norm = clf2.predict(X_second_tr)\n",
    "y2_tr_pred = np.array([denormalize_l2_y(y_sample) for y_sample in y2_tr_pred_norm])"
   ]
  },
  {
   "cell_type": "markdown",
   "id": "d702f2ad",
   "metadata": {},
   "source": [
    "### Export"
   ]
  },
  {
   "cell_type": "code",
   "execution_count": 9,
   "id": "abc89514",
   "metadata": {},
   "outputs": [],
   "source": [
    "y_pred = [np.concatenate((y1_pred[i],y2_pred[i])) for i in range(len(y1_pred))]\n",
    "y_pred_DF = pd.DataFrame(data=y_pred, columns=surge_columns)\n",
    "\n",
    "y_test = pd.DataFrame(data=y_pred, columns=surge_columns, index=X_test['id_sequence'])\n",
    "if not(exists(name)):\n",
    "    y_test.to_csv(name, index_label='id_sequence', sep=',')\n",
    "else:\n",
    "    print(\"File \" + name + \" already exists\")"
   ]
  },
  {
   "cell_type": "markdown",
   "id": "28010562",
   "metadata": {},
   "source": [
    "### Benchmark"
   ]
  },
  {
   "cell_type": "code",
   "execution_count": 10,
   "id": "a149dab0",
   "metadata": {},
   "outputs": [
    {
     "name": "stdout",
     "output_type": "stream",
     "text": [
      "KNN...\n",
      "done\n"
     ]
    }
   ],
   "source": [
    "slp_all = X_train['slp']\n",
    "surge_all = np.array(y_train)[:,1:]\n",
    "\n",
    "# Hyperparameters\n",
    "k = 40\n",
    "nfields = 2\n",
    "time_step_slp = 8\n",
    "\n",
    "length_one_slp = len(slp_all[0][0])*len(slp_all[0][0][0])\n",
    "\n",
    "X_bench = []\n",
    "for i in range(len(slp_all)):\n",
    "    X_bench.append(np.ndarray.flatten(slp_all[i,-1]))\n",
    "    for j in range(1,nfields):\n",
    "        X_bench[-1] = np.concatenate( ( X_bench[-1], np.ndarray.flatten(slp_all[i,-1-j*time_step_slp]) ) )\n",
    "X_bench = np.array(X_bench)\n",
    "y_bench = surge_all\n",
    "\n",
    "X_bench_tst = []\n",
    "for i in range(len(slp_tst)):\n",
    "    X_bench_tst.append(np.ndarray.flatten(slp_tst[i,-1]))\n",
    "    for j in range(1,nfields):\n",
    "        X_bench_tst[-1] = np.concatenate( ( X_bench_tst[-1], np.ndarray.flatten(slp_tst[i,-1-j*time_step_slp]) ) )\n",
    "X_bench_tst = np.array(X_bench_tst)\n",
    "\n",
    "# Fitting with KNN Regression\n",
    "from sklearn.neighbors import KNeighborsRegressor\n",
    "\n",
    "print('KNN...')\n",
    "neigh = KNeighborsRegressor(n_neighbors=k)\n",
    "neigh.fit(X_bench, y_bench)\n",
    "print('done')"
   ]
  },
  {
   "cell_type": "code",
   "execution_count": 11,
   "id": "ed497719",
   "metadata": {},
   "outputs": [],
   "source": [
    "y_bench_tr = neigh.predict(X_bench)\n",
    "y1_bench_tr = y_bench_tr[:,:10]\n",
    "y2_bench_tr = y_bench_tr[:,10:]\n",
    "\n",
    "y_bench_tst = neigh.predict(X_bench_tst)\n",
    "y1_bench_tst = y_bench_tst[:,:10]\n",
    "y2_bench_tst = y_bench_tst[:,10:]"
   ]
  },
  {
   "cell_type": "markdown",
   "id": "0b89fe21",
   "metadata": {},
   "source": [
    "### Interpretation of the model"
   ]
  },
  {
   "cell_type": "code",
   "execution_count": 50,
   "id": "e00d0380",
   "metadata": {},
   "outputs": [
    {
     "name": "stdout",
     "output_type": "stream",
     "text": [
      "0.06621175672057444\n",
      "0.013490033573663573\n",
      "0.052569134809279015\n",
      "0.022335598547057148\n",
      "0.0024940856\n",
      "0.0029204295\n"
     ]
    }
   ],
   "source": [
    "# Explanation of surges of first city\n",
    "# First we add the normalization as the output is\n",
    "def normalize_coeff(coeff):\n",
    "    return [coeff[i]*weights_in_sqrt_inv[i] for i in range(len(coeff))]\n",
    "\n",
    "coeff_global1 = normalize_coeff([sum(abs(clf1.coef_[i,:])) for i in range(10)])\n",
    "time1 = normalize_coeff([clf1.coef_[i,-1] for i in range(10)])\n",
    "surges1 = [[clf1.coef_[i,j] for i in range(10)] for j in range(-11,-1)]\n",
    "# NO NORMALIZATION since input and output in normalized form\n",
    "SLP1 = normalize_coeff([sum(abs(clf1.coef_[i,0:-11])) for i in range(10)])\n",
    "\n",
    "# Influence of time\n",
    "seconds_per_ten_years = 10*365*24*60*60\n",
    "std1 = np.sqrt(scaler1.var_[0])\n",
    "coeff1_per_ten_years = seconds_per_ten_years/std1\n",
    "\n",
    "time2 = normalize_coeff([clf2.coef_[i,-1] for i in range(10)])\n",
    "std2 = np.sqrt(scaler2.var_[0])\n",
    "coeff2_per_ten_years = seconds_per_ten_years/std2\n",
    "\n",
    "time1_10years = [coeff1_per_ten_years*c for c in time1] # Influence of time surge 1\n",
    "time2_10years = [coeff2_per_ten_years*c for c in time2] # Influence of time surge 2\n",
    "\n",
    "print(np.mean(time1_10years))\n",
    "print(np.std(time1_10years))\n",
    "print(np.mean(time2_10years))\n",
    "print(np.std(time2_10years))\n",
    "print(np.mean(abs(clf1.coef_[:,0:-11])))\n",
    "print(np.std(abs(clf1.coef_[:,0:-11])))"
   ]
  },
  {
   "cell_type": "code",
   "execution_count": 59,
   "id": "615aafb5",
   "metadata": {},
   "outputs": [
    {
     "data": {
      "image/png": "[encoded data removed]",
      "text/plain": [
       "<Figure size 432x288 with 1 Axes>"
      ]
     },
     "metadata": {
      "needs_background": "light"
     },
     "output_type": "display_data"
    }
   ],
   "source": [
    "# Plot time curve\n",
    "surge_time_range = [i/2 for i in range(10)]\n",
    "\n",
    "fig, ax = plt.subplots()\n",
    "fig.suptitle('Time influence (%var / 10 years) on the surge evolution (days) in city 1')\n",
    "ax.plot(surge_time_range, 100*np.array(time1_10years))\n",
    "ax.set_ylim(ymin = 0)\n",
    "ax.set_xticks(surge_time_range)\n",
    "plt.show()"
   ]
  },
  {
   "cell_type": "code",
   "execution_count": 58,
   "id": "5152eb3a",
   "metadata": {},
   "outputs": [
    {
     "data": {
      "image/png": "[encoded data removed]",
      "text/plain": [
       "<Figure size 432x288 with 1 Axes>"
      ]
     },
     "metadata": {
      "needs_background": "light"
     },
     "output_type": "display_data"
    }
   ],
   "source": [
    "fig, ax = plt.subplots()\n",
    "fig.suptitle('Last surge input influence (%var) on the surge evolution (days) in city 1')\n",
    "ax.plot(surge_time_range, 100*np.array(surges1[-1]), color = 'black')\n",
    "ax.set_ylim(ymin = 0, ymax = 37)\n",
    "ax.set_xticks(surge_time_range)\n",
    "plt.show()"
   ]
  },
  {
   "cell_type": "code",
   "execution_count": 60,
   "id": "318e9d2b",
   "metadata": {},
   "outputs": [
    {
     "data": {
      "image/png": "[encoded data removed]",
      "text/plain": [
       "<Figure size 432x288 with 1 Axes>"
      ]
     },
     "metadata": {
      "needs_background": "light"
     },
     "output_type": "display_data"
    }
   ],
   "source": [
    "fig, ax = plt.subplots()\n",
    "fig.suptitle('Second to last surge input influence (%var) on the surge evolution (days) in city 1')\n",
    "ax.plot(surge_time_range, 100*np.array(surges1[-2]), color='black')\n",
    "ax.set_ylim(ymin = 0, ymax = 37)\n",
    "ax.set_xticks(surge_time_range)\n",
    "plt.show()"
   ]
  },
  {
   "cell_type": "code",
   "execution_count": 26,
   "id": "ebbbf760",
   "metadata": {},
   "outputs": [
    {
     "data": {
      "text/plain": [
       "'1950-01-01, 13:00:00'"
      ]
     },
     "execution_count": 26,
     "metadata": {},
     "output_type": "execute_result"
    }
   ],
   "source": [
    "# Convert time from int to date (year, month, hour)\n",
    "def time_formatted(t):\n",
    "    t_dt = datetime.datetime.fromtimestamp(t)\n",
    "    return t_dt.strftime('%Y-%m-%d, %H:%M:%S')\n",
    "\n",
    "time_formatted(X_train['t_surge1_input'][0][0])"
   ]
  },
  {
   "cell_type": "markdown",
   "id": "eaf865cb",
   "metadata": {},
   "source": [
    "### Visualization"
   ]
  },
  {
   "cell_type": "code",
   "execution_count": 27,
   "id": "df9a0db9",
   "metadata": {
    "scrolled": true
   },
   "outputs": [
    {
     "data": {
      "image/png": "[encoded data removed]",
      "text/plain": [
       "<Figure size 432x288 with 2 Axes>"
      ]
     },
     "metadata": {
      "needs_background": "light"
     },
     "output_type": "display_data"
    }
   ],
   "source": [
    "# SLPs\n",
    "pressure_average = 1013\n",
    "pressure_range = 30\n",
    "vmin = pressure_average - pressure_range\n",
    "vmax = pressure_average + pressure_range\n",
    "\n",
    "def image_slp(id,time):\n",
    "    slp_i = None\n",
    "    L = len(slp_tr)\n",
    "    date = ''\n",
    "    if id <= L:\n",
    "        slp_i = slp_tr[id-1]\n",
    "        date = time_formatted(X_train['t_slp'][id-1][0])\n",
    "    else:\n",
    "        slp_i = slp_tst[id-1-L]\n",
    "        date = time_formatted(X_test['t_slp'][id-1-L][0])\n",
    "    slp_i = slp_i/100\n",
    "    fig, ax = plt.subplots()\n",
    "    ax.set_title('Time evolution of sea-level pressure (hPa) n°'+str(id)+'\\n starting '+date)\n",
    "    img = ax.imshow(slp_i[time], vmin=vmin, vmax=vmax, cmap=mpl.cm.coolwarm)\n",
    "    plt.colorbar(img)\n",
    "    plt.show(img)\n",
    "\n",
    "image_slp(1,0)"
   ]
  },
  {
   "cell_type": "code",
   "execution_count": 28,
   "id": "3ca0906b",
   "metadata": {},
   "outputs": [
    {
     "data": {
      "image/png": "[encoded data removed]",
      "text/plain": [
       "<Figure size 432x288 with 2 Axes>"
      ]
     },
     "metadata": {
      "needs_background": "light"
     },
     "output_type": "display_data"
    },
    {
     "data": {
      "image/png": "[encoded data removed]",
      "text/plain": [
       "<Figure size 432x288 with 2 Axes>"
      ]
     },
     "metadata": {
      "needs_background": "light"
     },
     "output_type": "display_data"
    },
    {
     "data": {
      "image/png": "[encoded data removed]",
      "text/plain": [
       "<Figure size 432x288 with 2 Axes>"
      ]
     },
     "metadata": {
      "needs_background": "light"
     },
     "output_type": "display_data"
    }
   ],
   "source": [
    "# Tide surges\n",
    "surge_time_range = [i/2 for i in range(10)]\n",
    "y1 = 4\n",
    "y2 = 1.2\n",
    "def plot_surges_pair(surge1, surge2, id, date):\n",
    "    fig, (ax1, ax2) = plt.subplots(2)\n",
    "    fig.suptitle('Surges evolution (days) in both cities n°'+str(id)+'\\n starting '+date)\n",
    "\n",
    "    ax1.plot(surge_time_range, surge1)\n",
    "    ax1.set_xticks(surge_time_range)\n",
    "\n",
    "    ax2.plot(surge_time_range, surge2,'r')\n",
    "    ax2.set_xticks(surge_time_range)\n",
    "        \n",
    "    ax1.axhline(y = 0, color = 'black', linewidth = 0.8, alpha = 0.5, ls = '--')\n",
    "    yabs_max1 = abs(max(ax1.get_ylim(), key=abs))\n",
    "    ax1.set_ylim(ymin=-y1, ymax=y1)\n",
    "    \n",
    "    ax2.axhline(y = 0, color = 'black', linewidth = 0.8, alpha = 0.5, ls = '--')\n",
    "    yabs_max2 = abs(max(ax2.get_ylim(), key=abs))\n",
    "    ax2.set_ylim(ymin=-y2, ymax=y2)\n",
    "    \n",
    "\n",
    "def plot_surges_input(id):\n",
    "    L = len(slp_tr)\n",
    "    if id <= L: \n",
    "        plot_surges_pair(X_train['surge1_input'][id-1], X_train['surge2_input'][id-1], id,\n",
    "                         time_formatted(X_train['t_surge1_input'][id-1][0]))\n",
    "    else:\n",
    "        plot_surges_pair(X_test['surge1_input'][id-1-L], X_test['surge2_input'][id-1-L], id,\n",
    "                         time_formatted(X_test['t_surge1_input'][id-1-L][0]))\n",
    "    \n",
    "def plot_surges_output(id):\n",
    "    # Real outputs\n",
    "    plot_surges_pair(surge1_out_all[id-1], surge2_out_all[id-1], id,\n",
    "                         time_formatted(X_train['t_surge1_output'][id-1][0]))\n",
    "\n",
    "def plot_surges_pred(id):\n",
    "    L = len(slp_tr)\n",
    "    if id <= L: \n",
    "        plot_surges_pair(y1_tr_pred[id-1], y2_tr_pred[id-1], id,\n",
    "                         time_formatted(X_train['t_surge1_output'][id-1][0]))\n",
    "    else:\n",
    "        plot_surges_pair(y1_pred[id-1-L], y2_pred[id-1-L], id,\n",
    "                         time_formatted(X_test['t_surge1_output'][id-1-L][0]))\n",
    "        \n",
    "def plot_surges_bench(id):\n",
    "    L = len(slp_tr)\n",
    "    if id <= L: \n",
    "        plot_surges_pair(y1_bench_tr[id-1], y2_bench_tr[id-1], id,\n",
    "                         time_formatted(X_train['t_surge1_output'][id-1][0]))\n",
    "    else:\n",
    "        plot_surges_pair(y1_bench_tst[id-1-L], y2_bench_tst[id-1-L], id,\n",
    "                         time_formatted(X_test['t_surge1_output'][id-1-L][0]))\n",
    "\n",
    "ind = 5606\n",
    "plot_surges_input(ind)\n",
    "#plot_surges_output(ind)\n",
    "plot_surges_pred(ind)\n",
    "plot_surges_bench(ind)"
   ]
  }
 ],
 "metadata": {
  "kernelspec": {
   "display_name": "Python 3",
   "language": "python",
   "name": "python3"
  },
  "language_info": {
   "codemirror_mode": {
    "name": "ipython",
    "version": 3
   },
   "file_extension": ".py",
   "mimetype": "text/x-python",
   "name": "python",
   "nbconvert_exporter": "python",
   "pygments_lexer": "ipython3",
   "version": "3.6.9"
  }
 },
 "nbformat": 4,
 "nbformat_minor": 5
}
